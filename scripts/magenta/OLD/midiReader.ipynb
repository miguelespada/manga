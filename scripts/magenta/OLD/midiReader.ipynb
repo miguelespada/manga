{
 "cells": [
  {
   "cell_type": "code",
   "execution_count": 131,
   "metadata": {},
   "outputs": [],
   "source": [
    "import pretty_midi\n",
    "# Load MIDI file into PrettyMIDI object\n",
    "\n",
    "# Notes of magenta\n",
    "# {36, 38, 42, 45, 46, 48, 49, 50, 51}\n",
    "\n",
    "# 36 C1 Bass Drum 1\n",
    "# 38 D1 Acoustic Snare\n",
    "# 42 F#1 Closed Hi Hat\n",
    "# 45 A1 Low Tom\n",
    "# 46 Bb1 Open Hi-Hat\n",
    "# 48 C2 Hi Mid Tom\n",
    "# 49 C#2 Crash Cymbal 1\n",
    "# 50 D2 High Tom\n",
    "# 51 Eb2 Ride Cymbal 1\n",
    "\n",
    "humanNotes = [36, 45, 46]\n",
    "machineNotes = [38, 48, 51]\n",
    "mapping = {}\n",
    "\n",
    "mapping[42] = 51\n",
    "mapping[49] = -1\n",
    "mapping[50] = 48\n",
    "\n",
    "\n",
    "def binNotes(notes, length = 0.125):\n",
    "    beats = notes[-1].start / length\n",
    "    bins = [[] for i in range( int(beats + 1) )]\n",
    "    for note in notes: \n",
    "        beat = int(note.start / length)\n",
    "        midi = remap(note.pitch)\n",
    "        if midi != -1: bins[beat].append(midi)\n",
    "    return bins\n",
    "\n",
    "def uniqueNotes(bins):\n",
    "    return set(sum(bins, []))\n",
    "\n",
    "def fragment(bins, i, length=12):\n",
    "    i = (i % (len(bins) / length))\n",
    "    return bins[length*i: length*(i + 1)]\n",
    "\n",
    "\n",
    "def remap(pitch):\n",
    "    if pitch in humanNotes: return -1\n",
    "    elif pitch in machineNotes: return pitch\n",
    "    return mapping[pitch]\n"
   ]
  },
  {
   "cell_type": "code",
   "execution_count": 141,
   "metadata": {},
   "outputs": [
    {
     "name": "stdout",
     "output_type": "stream",
     "text": [
      "Unique notes:  3\n"
     ]
    }
   ],
   "source": [
    "midi_data = pretty_midi.PrettyMIDI('/tmp/drums_rnn/generated/2017-10-10_125759_1.mid')\n",
    "instrument = midi_data.instruments[0]\n",
    "notes = instrument.notes\n",
    "bins = binNotes(notes)\n",
    "print \"Unique notes: \", len(uniqueNotes(fragment(bins, 1)))"
   ]
  },
  {
   "cell_type": "code",
   "execution_count": 142,
   "metadata": {},
   "outputs": [],
   "source": [
    "values = \"36,000000000000;45,000000000000;46,000000000000;38,000000000000;48,000000000000;51,000000000000;\""
   ]
  },
  {
   "cell_type": "code",
   "execution_count": 164,
   "metadata": {},
   "outputs": [],
   "source": [
    "data = map(lambda x: x.split(','), values.split(';'))[:-1]"
   ]
  },
  {
   "cell_type": "code",
   "execution_count": 167,
   "metadata": {},
   "outputs": [],
   "source": [
    "lines = [x[1] for x in data]\n",
    "midiNotes = [x[0] for x in data]"
   ]
  },
  {
   "cell_type": "code",
   "execution_count": null,
   "metadata": {},
   "outputs": [],
   "source": []
  }
 ],
 "metadata": {
  "kernelspec": {
   "display_name": "Python 2",
   "language": "python",
   "name": "python2"
  },
  "language_info": {
   "codemirror_mode": {
    "name": "ipython",
    "version": 2
   },
   "file_extension": ".py",
   "mimetype": "text/x-python",
   "name": "python",
   "nbconvert_exporter": "python",
   "pygments_lexer": "ipython2",
   "version": "2.7.10"
  }
 },
 "nbformat": 4,
 "nbformat_minor": 2
}
