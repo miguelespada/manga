{
 "cells": [
  {
   "cell_type": "code",
   "execution_count": 21,
   "metadata": {},
   "outputs": [],
   "source": [
    "import magenta\n",
    "import os"
   ]
  },
  {
   "cell_type": "code",
   "execution_count": 68,
   "metadata": {},
   "outputs": [],
   "source": [
    "import ast\n",
    "import os\n",
    "import time\n",
    "\n",
    "# internal imports\n",
    "\n",
    "import tensorflow as tf\n",
    "import magenta\n",
    "\n",
    "from magenta.models.drums_rnn import drums_rnn_config_flags\n",
    "from magenta.models.drums_rnn import drums_rnn_model\n",
    "from magenta.models.drums_rnn import drums_rnn_sequence_generator\n",
    "\n",
    "from magenta.protobuf import generator_pb2\n",
    "from magenta.protobuf import music_pb2"
   ]
  },
  {
   "cell_type": "code",
   "execution_count": 82,
   "metadata": {},
   "outputs": [],
   "source": [
    "import pretty_midi\n",
    "# Load MIDI file into PrettyMIDI object\n",
    "\n",
    "# Notes of magenta\n",
    "# {36, 38, 42, 45, 46, 48, 49, 50, 51}\n",
    "\n",
    "# 36 C1 Bass Drum 1\n",
    "# 38 D1 Acoustic Snare\n",
    "# 42 F#1 Closed Hi Hat\n",
    "# 45 A1 Low Tom\n",
    "# 46 Bb1 Open Hi-Hat\n",
    "# 48 C2 Hi Mid Tom\n",
    "# 49 C#2 Crash Cymbal 1\n",
    "# 50 D2 High Tom\n",
    "# 51 Eb2 Ride Cymbal 1\n",
    "\n",
    "humanNotes = [36, 45, 46]\n",
    "machineNotes = [38, 48, 51]\n",
    "mapping = {}\n",
    "\n",
    "mapping[42] = 51\n",
    "mapping[49] = -1\n",
    "mapping[50] = 48\n",
    "\n",
    "\n",
    "def binNotes(notes, length = 0.125):\n",
    "    beats = notes[-1].start / length\n",
    "    bins = [[] for i in range( int(beats + 1) )]\n",
    "    for note in notes: \n",
    "        beat = int(note.start / length)\n",
    "        midi = remap(note.pitch)\n",
    "        if midi != -1: bins[beat].append(midi)\n",
    "    return bins\n",
    "\n",
    "def uniqueNotes(bins):\n",
    "    return set(sum(bins, []))\n",
    "\n",
    "def fragment(bins, i, length=12):\n",
    "    i = (i % (len(bins) / length))\n",
    "    return bins[length*i: length*(i + 1)]\n",
    "\n",
    "\n",
    "def remap(pitch):\n",
    "    if pitch in humanNotes: return pitch\n",
    "    elif pitch in machineNotes: return pitch\n",
    "    return mapping[pitch]\n",
    "\n",
    "def binNotes(notes, length = 0.125):\n",
    "    beats = notes[-1].start / length\n",
    "    bins = [[] for i in range( int(beats + 1) )]\n",
    "    for note in notes: \n",
    "        beat = int(note.start / length)\n",
    "        midi = remap(note.pitch)\n",
    "        if midi != -1: bins[beat].append(midi)\n",
    "    return bins\n",
    "\n",
    "def getDistance(fragment):\n",
    "    distance = 0\n",
    "    for i in range(len(primer_drums)):\n",
    "        s = frozenset(fragment[i])\n",
    "        p = primer_drums[i]\n",
    "        distance += len(s.union(p).difference(p))\n",
    "    return distance"
   ]
  },
  {
   "cell_type": "code",
   "execution_count": 83,
   "metadata": {},
   "outputs": [],
   "source": [
    "bundle_file = os.path.expanduser(\"drum_kit_rnn.mag\")\n",
    "bundle = magenta.music.read_bundle_file(bundle_file)\n",
    "\n",
    "\n",
    "config_id = bundle.generator_details.id\n",
    "config = drums_rnn_model.default_configs[config_id]\n",
    "\n",
    "beam_size = 1\n",
    "branch_factor = 1\n",
    "\n",
    "config.hparams.batch_size = min(\n",
    "      config.hparams.batch_size, beam_size * branch_factor)"
   ]
  },
  {
   "cell_type": "code",
   "execution_count": 84,
   "metadata": {},
   "outputs": [],
   "source": [
    "generator = drums_rnn_sequence_generator.DrumsRnnSequenceGenerator(\n",
    "  model=drums_rnn_model.DrumsRnnModel(config),\n",
    "  details=config.details,\n",
    "  steps_per_quarter=config.steps_per_quarter,\n",
    "  bundle=bundle)\n",
    "\n"
   ]
  },
  {
   "cell_type": "code",
   "execution_count": 190,
   "metadata": {},
   "outputs": [
    {
     "name": "stdout",
     "output_type": "stream",
     "text": [
      "INFO:tensorflow:Beam search yields sequence with log-likelihood: -58.464188 \n",
      "0\n",
      "3\n",
      "1\n",
      "4\n",
      "0\n",
      "3\n",
      "1\n",
      "4\n",
      "0\n",
      "3\n",
      "0\n",
      "3\n"
     ]
    }
   ],
   "source": [
    "qpm = 120\n",
    "num_steps = 12*10\n",
    "temperature = 0.5\n",
    "branch_factor = 1\n",
    "beam_size = 1\n",
    "steps_per_iteration = 1\n",
    "primer = \"[(36,45), (), (36,), (), (36,), (36,), (), (36,), (36,46,), (45,), (36,46,), ()]\"\n",
    "\n",
    "primer_drums = magenta.music.DrumTrack(\n",
    "    [frozenset(pitches)\n",
    "     for pitches in ast.literal_eval(primer_drums)])\n",
    "\n",
    "primer_sequence = primer_drums.to_sequence(qpm=qpm)\n",
    "seconds_per_step = 60.0 / qpm / generator.steps_per_quarter\n",
    "total_seconds = num_steps * seconds_per_step\n",
    "generator_options = generator_pb2.GeneratorOptions()\n",
    "\n",
    "input_sequence = primer_sequence\n",
    "last_end_time = (max(n.end_time for n in primer_sequence.notes)\n",
    "                 if primer_sequence.notes else 0)\n",
    "\n",
    "generate_section = generator_options.generate_sections.add(\n",
    "    start_time=last_end_time + seconds_per_step,\n",
    "    end_time=total_seconds)\n",
    "\n",
    "if generate_section.start_time >= generate_section.end_time:\n",
    "    tf.logging.fatal(\n",
    "      'Priming sequence is longer than the total number of steps '\n",
    "      'requested: Priming sequence length: %s, Generation length '\n",
    "      'requested: %s',\n",
    "      generate_section.start_time, total_seconds)\n",
    "else:\n",
    "    generator_options.args['temperature'].float_value = temperature\n",
    "    generator_options.args['beam_size'].int_value = beam_size\n",
    "    generator_options.args['branch_factor'].int_value = branch_factor\n",
    "    generator_options.args['steps_per_iteration'].int_value = steps_per_iteration\n",
    "\n",
    "    generated_sequence = generator.generate(input_sequence, generator_options)\n",
    "    generated_midi = magenta.music.sequence_proto_to_pretty_midi(generated_sequence)\n",
    "    instrument = generated_midi.instruments[1]\n",
    "\n",
    "instrument.notes\n",
    "bins = binNotes(instrument.notes)\n",
    "for i in range(12):\n",
    "    print getDistance(fragment(bins, i))"
   ]
  },
  {
   "cell_type": "code",
   "execution_count": 192,
   "metadata": {},
   "outputs": [
    {
     "name": "stdout",
     "output_type": "stream",
     "text": [
      "frozenset([])\n",
      "[[], [], [], [], [36], [], [36], [], [36], [36], [], [36]]\n"
     ]
    }
   ],
   "source": [
    "print primer_drums\n",
    "\n",
    "print fragment(bins, 1)"
   ]
  },
  {
   "cell_type": "code",
   "execution_count": null,
   "metadata": {},
   "outputs": [],
   "source": []
  },
  {
   "cell_type": "code",
   "execution_count": 182,
   "metadata": {},
   "outputs": [],
   "source": []
  },
  {
   "cell_type": "code",
   "execution_count": 183,
   "metadata": {},
   "outputs": [
    {
     "name": "stdout",
     "output_type": "stream",
     "text": [
      "0\n",
      "6\n",
      "5\n",
      "7\n",
      "2\n",
      "7\n",
      "3\n",
      "7\n",
      "2\n",
      "7\n",
      "0\n",
      "6\n"
     ]
    }
   ],
   "source": []
  },
  {
   "cell_type": "code",
   "execution_count": 165,
   "metadata": {},
   "outputs": [
    {
     "data": {
      "text/plain": [
       "[[], [], [], [], [36], [], [36], [], [36], [36], [], [36]]"
      ]
     },
     "execution_count": 165,
     "metadata": {},
     "output_type": "execute_result"
    }
   ],
   "source": [
    "fragment(bins, 1)"
   ]
  },
  {
   "cell_type": "code",
   "execution_count": null,
   "metadata": {},
   "outputs": [],
   "source": []
  }
 ],
 "metadata": {
  "kernelspec": {
   "display_name": "Python 2",
   "language": "python",
   "name": "python2"
  },
  "language_info": {
   "codemirror_mode": {
    "name": "ipython",
    "version": 2
   },
   "file_extension": ".py",
   "mimetype": "text/x-python",
   "name": "python",
   "nbconvert_exporter": "python",
   "pygments_lexer": "ipython2",
   "version": "2.7.10"
  }
 },
 "nbformat": 4,
 "nbformat_minor": 2
}
