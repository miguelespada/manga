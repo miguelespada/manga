{
 "cells": [
  {
   "cell_type": "code",
   "execution_count": 129,
   "metadata": {},
   "outputs": [],
   "source": [
    "import pretty_midi\n",
    "# Load MIDI file into PrettyMIDI object\n",
    "\n",
    "# Notes of magenta\n",
    "# {36, 38, 42, 45, 46, 48, 49, 50, 51}\n",
    "\n",
    "# 36 C1 Bass Drum 1\n",
    "# 38 D1 Acoustic Snare\n",
    "# 42 F#1 Closed Hi Hat\n",
    "# 45 A1 Low Tom\n",
    "# 46 Bb1 Open Hi-Hat\n",
    "# 48 C2 Hi Mid Tom\n",
    "# 49 C#2 Crash Cymbal 1\n",
    "# 50 D2 High Tom\n",
    "# 51 Eb2 Ride Cymbal 1\n",
    "\n",
    "humanNotes = [36, 45, 46]\n",
    "machineNotes = [38, 48, 51]\n",
    "mapping = {}\n",
    "\n",
    "mapping[42] = 51\n",
    "mapping[49] = -1\n",
    "mapping[50] = 48\n",
    "\n",
    "\n",
    "def binNotes(notes, length = 0.125):\n",
    "    beats = notes[-1].start / length\n",
    "    bins = [[] for i in range( int(beats + 1) )]\n",
    "    for note in notes: \n",
    "        beat = int(note.start / length)\n",
    "        midi = remap(note.pitch)\n",
    "        if midi != -1: bins[beat].append(midi)\n",
    "    return bins\n",
    "\n",
    "def uniqueNotes(bins):\n",
    "    return set(sum(bins, []))\n",
    "\n",
    "def fragment(bins, i, length=12):\n",
    "    i = (i % (len(bins) / length))\n",
    "    return bins[length*i: length*(i + 1)]\n",
    "\n",
    "\n",
    "def remap(pitch):\n",
    "    if pitch in humanNotes: return -1\n",
    "    elif pitch in machineNotes: return pitch\n",
    "    return mapping[pitch]\n"
   ]
  },
  {
   "cell_type": "code",
   "execution_count": 130,
   "metadata": {},
   "outputs": [
    {
     "ename": "KeyError",
     "evalue": "45",
     "output_type": "error",
     "traceback": [
      "\u001b[0;31m---------------------------------------------------------------------------\u001b[0m",
      "\u001b[0;31mKeyError\u001b[0m                                  Traceback (most recent call last)",
      "\u001b[0;32m<ipython-input-130-1e4ea939ac39>\u001b[0m in \u001b[0;36m<module>\u001b[0;34m()\u001b[0m\n\u001b[1;32m      2\u001b[0m \u001b[0minstrument\u001b[0m \u001b[0;34m=\u001b[0m \u001b[0mmidi_data\u001b[0m\u001b[0;34m.\u001b[0m\u001b[0minstruments\u001b[0m\u001b[0;34m[\u001b[0m\u001b[0;36m0\u001b[0m\u001b[0;34m]\u001b[0m\u001b[0;34m\u001b[0m\u001b[0m\n\u001b[1;32m      3\u001b[0m \u001b[0mnotes\u001b[0m \u001b[0;34m=\u001b[0m \u001b[0minstrument\u001b[0m\u001b[0;34m.\u001b[0m\u001b[0mnotes\u001b[0m\u001b[0;34m\u001b[0m\u001b[0m\n\u001b[0;32m----> 4\u001b[0;31m \u001b[0mbins\u001b[0m \u001b[0;34m=\u001b[0m \u001b[0mbinNotes\u001b[0m\u001b[0;34m(\u001b[0m\u001b[0mnotes\u001b[0m\u001b[0;34m)\u001b[0m\u001b[0;34m\u001b[0m\u001b[0m\n\u001b[0m",
      "\u001b[0;32m<ipython-input-129-8e97240b0893>\u001b[0m in \u001b[0;36mbinNotes\u001b[0;34m(notes, length)\u001b[0m\n\u001b[1;32m     29\u001b[0m     \u001b[0;32mfor\u001b[0m \u001b[0mnote\u001b[0m \u001b[0;32min\u001b[0m \u001b[0mnotes\u001b[0m\u001b[0;34m:\u001b[0m\u001b[0;34m\u001b[0m\u001b[0m\n\u001b[1;32m     30\u001b[0m         \u001b[0mbeat\u001b[0m \u001b[0;34m=\u001b[0m \u001b[0mint\u001b[0m\u001b[0;34m(\u001b[0m\u001b[0mnote\u001b[0m\u001b[0;34m.\u001b[0m\u001b[0mstart\u001b[0m \u001b[0;34m/\u001b[0m \u001b[0mlength\u001b[0m\u001b[0;34m)\u001b[0m\u001b[0;34m\u001b[0m\u001b[0m\n\u001b[0;32m---> 31\u001b[0;31m         \u001b[0mmidi\u001b[0m \u001b[0;34m=\u001b[0m \u001b[0mremap\u001b[0m\u001b[0;34m(\u001b[0m\u001b[0mnote\u001b[0m\u001b[0;34m.\u001b[0m\u001b[0mpitch\u001b[0m\u001b[0;34m)\u001b[0m\u001b[0;34m\u001b[0m\u001b[0m\n\u001b[0m\u001b[1;32m     32\u001b[0m         \u001b[0;32mif\u001b[0m \u001b[0mmidi\u001b[0m \u001b[0;34m!=\u001b[0m \u001b[0;34m-\u001b[0m\u001b[0;36m1\u001b[0m\u001b[0;34m:\u001b[0m \u001b[0mbins\u001b[0m\u001b[0;34m[\u001b[0m\u001b[0mbeat\u001b[0m\u001b[0;34m]\u001b[0m\u001b[0;34m.\u001b[0m\u001b[0mappend\u001b[0m\u001b[0;34m(\u001b[0m\u001b[0mmidi\u001b[0m\u001b[0;34m)\u001b[0m\u001b[0;34m\u001b[0m\u001b[0m\n\u001b[1;32m     33\u001b[0m     \u001b[0;32mreturn\u001b[0m \u001b[0mbins\u001b[0m\u001b[0;34m\u001b[0m\u001b[0m\n",
      "\u001b[0;32m<ipython-input-129-8e97240b0893>\u001b[0m in \u001b[0;36mremap\u001b[0;34m(pitch)\u001b[0m\n\u001b[1;32m     44\u001b[0m     \u001b[0;32mif\u001b[0m \u001b[0mpitch\u001b[0m \u001b[0;32min\u001b[0m \u001b[0mhumanNotes\u001b[0m\u001b[0;34m:\u001b[0m \u001b[0;32mreturn\u001b[0m \u001b[0;34m-\u001b[0m\u001b[0;36m1\u001b[0m\u001b[0;34m\u001b[0m\u001b[0m\n\u001b[1;32m     45\u001b[0m     \u001b[0;32melif\u001b[0m \u001b[0mpitch\u001b[0m \u001b[0;32min\u001b[0m \u001b[0mmachineNotes\u001b[0m\u001b[0;34m:\u001b[0m \u001b[0;32mreturn\u001b[0m \u001b[0mpitch\u001b[0m\u001b[0;34m\u001b[0m\u001b[0m\n\u001b[0;32m---> 46\u001b[0;31m     \u001b[0;32mreturn\u001b[0m \u001b[0mmapping\u001b[0m\u001b[0;34m[\u001b[0m\u001b[0mpitch\u001b[0m\u001b[0;34m]\u001b[0m\u001b[0;34m\u001b[0m\u001b[0m\n\u001b[0m",
      "\u001b[0;31mKeyError\u001b[0m: 45"
     ]
    }
   ],
   "source": [
    "midi_data = pretty_midi.PrettyMIDI('/tmp/drums_rnn/generated/2017-10-10_122352_1.mid')\n",
    "instrument = midi_data.instruments[0]\n",
    "notes = instrument.notes\n",
    "bins = binNotes(notes)"
   ]
  },
  {
   "cell_type": "code",
   "execution_count": 120,
   "metadata": {},
   "outputs": [],
   "source": []
  },
  {
   "cell_type": "code",
   "execution_count": 124,
   "metadata": {},
   "outputs": [
    {
     "data": {
      "text/plain": [
       "[[],\n",
       " [],\n",
       " [36],\n",
       " [38, 42],\n",
       " [36, 38, 48, 51],\n",
       " [45, 48, 51],\n",
       " [36, 46, 48, 49, 50],\n",
       " [45, 50],\n",
       " [36, 48, 51],\n",
       " [36, 38, 50],\n",
       " [],\n",
       " [36, 38, 45, 46, 49]]"
      ]
     },
     "execution_count": 124,
     "metadata": {},
     "output_type": "execute_result"
    }
   ],
   "source": [
    "fragment(bins, 1)"
   ]
  },
  {
   "cell_type": "code",
   "execution_count": null,
   "metadata": {},
   "outputs": [],
   "source": []
  }
 ],
 "metadata": {
  "kernelspec": {
   "display_name": "Python 2",
   "language": "python",
   "name": "python2"
  },
  "language_info": {
   "codemirror_mode": {
    "name": "ipython",
    "version": 2
   },
   "file_extension": ".py",
   "mimetype": "text/x-python",
   "name": "python",
   "nbconvert_exporter": "python",
   "pygments_lexer": "ipython2",
   "version": "2.7.10"
  }
 },
 "nbformat": 4,
 "nbformat_minor": 2
}
