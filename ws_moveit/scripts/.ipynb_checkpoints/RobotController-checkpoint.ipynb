{
 "cells": [
  {
   "cell_type": "code",
   "execution_count": 41,
   "metadata": {},
   "outputs": [
    {
     "name": "stdout",
     "output_type": "stream",
     "text": [
      "Manipulator detected\n",
      "World detetected\n",
      "Initial Join values should be [77.32632695, -69.73220526, 121.29976102, -141.59751593, -90.06095192, 168.36293361]\n",
      "Actual values are [  -2.25146622  -59.30387243  102.94950159 -133.64815928  -90.00322317\n",
      "   87.74950298]\n",
      "Loading points\n",
      "Total points loaded:  36\n",
      "Setting Scene\n",
      "Definning zeroPose\n"
     ]
    }
   ],
   "source": [
    "from controllerLib import *\n",
    "robot, scene, group, zeroPose  = initRobot()"
   ]
  },
  {
   "cell_type": "code",
   "execution_count": 29,
   "metadata": {},
   "outputs": [
    {
     "name": "stdout",
     "output_type": "stream",
     "text": [
      "Adding Constraints\n"
     ]
    }
   ],
   "source": [
    "goToZero()"
   ]
  },
  {
   "cell_type": "code",
   "execution_count": 30,
   "metadata": {},
   "outputs": [
    {
     "name": "stdout",
     "output_type": "stream",
     "text": [
      "Total points loaded:  36\n",
      "Total time 3.81125593185\n"
     ]
    }
   ],
   "source": [
    "pushTwo((2, 6), (2, 7))"
   ]
  },
  {
   "cell_type": "code",
   "execution_count": 51,
   "metadata": {},
   "outputs": [
    {
     "name": "stdout",
     "output_type": "stream",
     "text": [
      "Error\n",
      "Error\n",
      "Error\n"
     ]
    }
   ],
   "source": [
    "pushAll()"
   ]
  },
  {
   "cell_type": "code",
   "execution_count": 3,
   "metadata": {},
   "outputs": [],
   "source": [
    "pushOne(2, 6)"
   ]
  },
  {
   "cell_type": "code",
   "execution_count": 3,
   "metadata": {},
   "outputs": [
    {
     "name": "stdout",
     "output_type": "stream",
     "text": [
      "Total points loaded:  36\n",
      "Length 9\n",
      "Total time 28.9839551449\n"
     ]
    }
   ],
   "source": [
    "createPath([(0, 0), (2, 4), (2, 1), (2, 9), (0, 0), (2, 8), (2, 11), (2, 7), (0, 3)])"
   ]
  },
  {
   "cell_type": "code",
   "execution_count": 4,
   "metadata": {
    "scrolled": true
   },
   "outputs": [
    {
     "name": "stdout",
     "output_type": "stream",
     "text": [
      "Total points loaded:  36\n",
      "Length 4\n",
      "Total time 17.9420590401\n"
     ]
    }
   ],
   "source": [
    "createPath([[0,0],[2,11],[2,0],[0,11]])"
   ]
  },
  {
   "cell_type": "code",
   "execution_count": 17,
   "metadata": {},
   "outputs": [],
   "source": [
    "\n",
    "def goSlowlyToPoint(p, z = NORMAL_Z):\n",
    "    pose = copy.deepcopy(zeroPose)\n",
    "    pose.position.x = p.getPos()[0]\n",
    "    pose.position.y = p.getPos()[1]\n",
    "    pose.position.z = z\n",
    "    goToPose(pose, step=0.0001)\n",
    "    return pose"
   ]
  },
  {
   "cell_type": "code",
   "execution_count": 48,
   "metadata": {},
   "outputs": [
    {
     "name": "stdout",
     "output_type": "stream",
     "text": [
      "Total points loaded:  36\n"
     ]
    },
    {
     "data": {
      "text/plain": [
       "position: \n",
       "  x: -0.265098218892\n",
       "  y: 0.306379132921\n",
       "  z: 0.08\n",
       "orientation: \n",
       "  x: 0.5\n",
       "  y: 0.5\n",
       "  z: -0.5\n",
       "  w: 0.5"
      ]
     },
     "execution_count": 48,
     "metadata": {},
     "output_type": "execute_result"
    }
   ],
   "source": [
    "matrix = loadMatrix()\n",
    "\n",
    "goSlowlyToPoint(matrix[0][8])"
   ]
  },
  {
   "cell_type": "code",
   "execution_count": 53,
   "metadata": {},
   "outputs": [
    {
     "name": "stdout",
     "output_type": "stream",
     "text": [
      "Total points loaded:  36\n",
      "Length 3\n",
      "Total time 6.98538208008\n"
     ]
    }
   ],
   "source": [
    "createPath([[0,6],[1,9], [0, 9]])"
   ]
  },
  {
   "cell_type": "code",
   "execution_count": 54,
   "metadata": {},
   "outputs": [
    {
     "data": {
      "text/plain": [
       "position: \n",
       "  x: 0.243241517994\n",
       "  y: 0.324067629086\n",
       "  z: 0.08\n",
       "orientation: \n",
       "  x: 0.5\n",
       "  y: 0.5\n",
       "  z: -0.5\n",
       "  w: 0.5"
      ]
     },
     "execution_count": 54,
     "metadata": {},
     "output_type": "execute_result"
    }
   ],
   "source": [
    "goSlowlyToPoint(matrix[0][3])"
   ]
  },
  {
   "cell_type": "code",
   "execution_count": 72,
   "metadata": {},
   "outputs": [],
   "source": [
    "extra1data = \"0,0,0.2,0.22,0.030000,0.00500,0.001000\"\n",
    "extra1 = Point()\n",
    "extra1.fromString(extra1data)\n",
    "\n"
   ]
  },
  {
   "cell_type": "code",
   "execution_count": 74,
   "metadata": {},
   "outputs": [
    {
     "name": "stdout",
     "output_type": "stream",
     "text": [
      "Error\n",
      "Error\n"
     ]
    }
   ],
   "source": [
    "pose = goSlowlyToPoint(extra1, 0.0001)\n",
    "pushInPlace(pose, 0.005)"
   ]
  },
  {
   "cell_type": "code",
   "execution_count": null,
   "metadata": {},
   "outputs": [],
   "source": []
  }
 ],
 "metadata": {
  "kernelspec": {
   "display_name": "Python 2",
   "language": "python",
   "name": "python2"
  },
  "language_info": {
   "codemirror_mode": {
    "name": "ipython",
    "version": 2
   },
   "file_extension": ".py",
   "mimetype": "text/x-python",
   "name": "python",
   "nbconvert_exporter": "python",
   "pygments_lexer": "ipython2",
   "version": "2.7.12"
  }
 },
 "nbformat": 4,
 "nbformat_minor": 2
}
