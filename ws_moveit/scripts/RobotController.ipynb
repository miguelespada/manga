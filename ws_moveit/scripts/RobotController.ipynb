{
 "cells": [
  {
   "cell_type": "code",
   "execution_count": 1,
   "metadata": {},
   "outputs": [
    {
     "name": "stdout",
     "output_type": "stream",
     "text": [
      "Manipulator detected\n",
      "World detetected\n",
      "Initial Join values should be [77.32632695, -69.73220526, 121.29976102, -141.59751593, -90.06095192, 168.36293361]\n",
      "Actual values are [   6.9936134   -56.6155373   -60.88795722 -117.37370362    3.73213318\n",
      "  179.42363267]\n",
      "Loading points\n",
      "Total points loaded:  36\n",
      "Setting Scene\n",
      "Definning zeroPose\n",
      "Loading extra buttons\n"
     ]
    }
   ],
   "source": [
    "from controllerLib import *\n",
    "robot, scene, group, zeroPose  = initRobot()\n",
    "\n"
   ]
  },
  {
   "cell_type": "code",
   "execution_count": 2,
   "metadata": {},
   "outputs": [
    {
     "name": "stdout",
     "output_type": "stream",
     "text": [
      "Adding Constraints\n"
     ]
    }
   ],
   "source": [
    "goToZero()"
   ]
  },
  {
   "cell_type": "code",
   "execution_count": 3,
   "metadata": {},
   "outputs": [
    {
     "name": "stdout",
     "output_type": "stream",
     "text": [
      "Total points loaded:  36\n",
      "Total points loaded:  36\n",
      "Total time 5.02399301529\n"
     ]
    }
   ],
   "source": [
    "loadMatrix()\n",
    "pushTwo((0, 0), (1, 0))"
   ]
  },
  {
   "cell_type": "code",
   "execution_count": 2,
   "metadata": {},
   "outputs": [],
   "source": [
    "pushAll()"
   ]
  },
  {
   "cell_type": "code",
   "execution_count": 6,
   "metadata": {},
   "outputs": [
    {
     "name": "stdout",
     "output_type": "stream",
     "text": [
      "Error\n"
     ]
    }
   ],
   "source": [
    "pushExtra()"
   ]
  },
  {
   "cell_type": "code",
   "execution_count": null,
   "metadata": {},
   "outputs": [],
   "source": [
    "\n",
    "extra1data = \"0,0,0.2,0.22,0.010000,0.01600,0.007000\"\n",
    "extra1 = Point()\n",
    "extra1.fromString(extra1data)\n",
    "\n",
    "extra2data = \"0,0,-0.2,-0.2,0.020000,0.05500,0.007000\"\n",
    "extra2 = Point()\n",
    "extra2.fromString(extra2data)\n",
    "\n",
    "\n",
    "def pushExtra():\n",
    "    goToPose(zeroPose)\n",
    "    pose = goToPoint(extra1)\n",
    "    time.sleep(0.1)\n",
    "    pushAndHold(pose, 1, extra1.tolerance)\n",
    "    time.sleep(0.1)\n",
    "    goToPose(zeroPose)\n",
    "    pose = goToPoint(extra2)\n",
    "    time.sleep(0.1)\n",
    "    pushAndHold(pose, 1, extra2.tolerance)\n",
    "    time.sleep(0.1)\n",
    "    goToPose(zeroPose)\n",
    "\n",
    "pushExtra()"
   ]
  },
  {
   "cell_type": "code",
   "execution_count": 3,
   "metadata": {},
   "outputs": [],
   "source": [
    "pushOne(2, 6)"
   ]
  },
  {
   "cell_type": "code",
   "execution_count": 3,
   "metadata": {},
   "outputs": [
    {
     "name": "stdout",
     "output_type": "stream",
     "text": [
      "Total points loaded:  36\n",
      "Length 9\n",
      "Total time 28.9839551449\n"
     ]
    }
   ],
   "source": [
    "createPath([(0, 0), (2, 4), (2, 1), (2, 9), (0, 0), (2, 8), (2, 11), (2, 7), (0, 3)])"
   ]
  },
  {
   "cell_type": "code",
   "execution_count": 4,
   "metadata": {
    "scrolled": true
   },
   "outputs": [
    {
     "name": "stdout",
     "output_type": "stream",
     "text": [
      "Total points loaded:  36\n",
      "Length 4\n",
      "Total time 17.9420590401\n"
     ]
    }
   ],
   "source": [
    "createPath([[0,0],[2,11],[2,0],[0,11]])"
   ]
  },
  {
   "cell_type": "code",
   "execution_count": 3,
   "metadata": {},
   "outputs": [],
   "source": [
    "pushButtonExtra(1, 0.5)"
   ]
  },
  {
   "cell_type": "code",
   "execution_count": null,
   "metadata": {
    "collapsed": true
   },
   "outputs": [],
   "source": []
  }
 ],
 "metadata": {
  "kernelspec": {
   "display_name": "Python 2",
   "language": "python",
   "name": "python2"
  },
  "language_info": {
   "codemirror_mode": {
    "name": "ipython",
    "version": 2
   },
   "file_extension": ".py",
   "mimetype": "text/x-python",
   "name": "python",
   "nbconvert_exporter": "python",
   "pygments_lexer": "ipython2",
   "version": "2.7.12"
  }
 },
 "nbformat": 4,
 "nbformat_minor": 2
}
